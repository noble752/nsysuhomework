{
  "nbformat": 4,
  "nbformat_minor": 0,
  "metadata": {
    "colab": {
      "provenance": [],
      "authorship_tag": "ABX9TyNMwosQfFt6iGjh4TO+p+Om",
      "include_colab_link": true
    },
    "kernelspec": {
      "name": "python3",
      "display_name": "Python 3"
    },
    "language_info": {
      "name": "python"
    }
  },
  "cells": [
    {
      "cell_type": "markdown",
      "metadata": {
        "id": "view-in-github",
        "colab_type": "text"
      },
      "source": [
        "<a href=\"https://colab.research.google.com/github/noble752/nsysuhomework/blob/main/EX02_01_My_Chatbot.ipynb\" target=\"_parent\"><img src=\"https://colab.research.google.com/assets/colab-badge.svg\" alt=\"Open In Colab\"/></a>"
      ]
    },
    {
      "cell_type": "code",
      "execution_count": null,
      "metadata": {
        "colab": {
          "base_uri": "https://localhost:8080/",
          "height": 199
        },
        "id": "Xfl0lEJyKqnI",
        "outputId": "da73bfeb-188f-4437-85d0-bf91e42b40a2"
      },
      "outputs": [
        {
          "output_type": "stream",
          "name": "stdout",
          "text": [
            "你想問什麼?1+1\n",
            "2\n",
            "\n"
          ]
        },
        {
          "output_type": "display_data",
          "data": {
            "text/plain": [
              "<IPython.core.display.Markdown object>"
            ],
            "text/markdown": "2\n"
          },
          "metadata": {}
        },
        {
          "output_type": "stream",
          "name": "stdout",
          "text": [
            "你想問什麼?what date is today\n",
            "Today is May 15, 2024.\n",
            "\n"
          ]
        },
        {
          "output_type": "display_data",
          "data": {
            "text/plain": [
              "<IPython.core.display.Markdown object>"
            ],
            "text/markdown": "Today is May 15, 2024.\n"
          },
          "metadata": {}
        }
      ],
      "source": [
        "from google.colab import userdata\n",
        "import google.generativeai as genai\n",
        "genai.configure(api_key=userdata.get('GOOGLE_API_KEY'))\n",
        "Generation_config ={\n",
        "    \"temperature\": 1,\n",
        "    \"max_output_tokens\": 1280,\n",
        "}\n",
        "model = genai.GenerativeModel(\n",
        "    model_name=\"gemini-2.0-flash-exp\",\n",
        "  generation_config=Generation_config\n",
        ")\n",
        "chat = model.start_chat(history=[])\n",
        "from IPython.display import Markdown, display\n",
        "while True:\n",
        "  a=input(\"你想問什麼?\")\n",
        "  if a==\"bye!\":\n",
        "    break\n",
        "  b=chat.send_message(a)\n",
        "  print(b.text)\n",
        "  display(Markdown(b.text))\n"
      ]
    }
  ]
}