{
  "nbformat": 4,
  "nbformat_minor": 0,
  "metadata": {
    "colab": {
      "provenance": [],
      "authorship_tag": "ABX9TyO7JJbD0UpM27V9Jk7wpDr7",
      "include_colab_link": true
    },
    "kernelspec": {
      "name": "python3",
      "display_name": "Python 3"
    },
    "language_info": {
      "name": "python"
    }
  },
  "cells": [
    {
      "cell_type": "markdown",
      "metadata": {
        "id": "view-in-github",
        "colab_type": "text"
      },
      "source": [
        "<a href=\"https://colab.research.google.com/github/noble752/nsysuhomework/blob/main/EX01_01_%E5%8A%A0%E6%B3%95%E5%99%A8.ipynb\" target=\"_parent\"><img src=\"https://colab.research.google.com/assets/colab-badge.svg\" alt=\"Open In Colab\"/></a>"
      ]
    },
    {
      "cell_type": "code",
      "execution_count": 4,
      "metadata": {
        "colab": {
          "base_uri": "https://localhost:8080/"
        },
        "id": "GLOakOH1EOzT",
        "outputId": "2a737ef2-2aa5-44f7-9f31-2bf5d54a0d33"
      },
      "outputs": [
        {
          "output_type": "stream",
          "name": "stdout",
          "text": [
            "請輸入第一個整數 : 5\n",
            "請輸入第二個整數 : 7\n",
            "總合為 : 12\n"
          ]
        }
      ],
      "source": [
        "#輸入第一個整數\n",
        "a = int(input('請輸入第一個整數 : '))\n",
        "#輸入第二個整數\n",
        "b = int(input('請輸入第二個整數 : '))\n",
        "#相加\n",
        "sum = a+b\n",
        "#顯示\n",
        "print('總合為 :',sum)"
      ]
    }
  ]
}