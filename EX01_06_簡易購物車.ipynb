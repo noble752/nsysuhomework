{
  "nbformat": 4,
  "nbformat_minor": 0,
  "metadata": {
    "colab": {
      "provenance": [],
      "authorship_tag": "ABX9TyPoKRrnx1jdhqkO20b2OBWw",
      "include_colab_link": true
    },
    "kernelspec": {
      "name": "python3",
      "display_name": "Python 3"
    },
    "language_info": {
      "name": "python"
    }
  },
  "cells": [
    {
      "cell_type": "markdown",
      "metadata": {
        "id": "view-in-github",
        "colab_type": "text"
      },
      "source": [
        "<a href=\"https://colab.research.google.com/github/noble752/nsysuhomework/blob/main/EX01_06_%E7%B0%A1%E6%98%93%E8%B3%BC%E7%89%A9%E8%BB%8A.ipynb\" target=\"_parent\"><img src=\"https://colab.research.google.com/assets/colab-badge.svg\" alt=\"Open In Colab\"/></a>"
      ]
    },
    {
      "cell_type": "code",
      "execution_count": 8,
      "metadata": {
        "colab": {
          "base_uri": "https://localhost:8080/"
        },
        "outputId": "1f334a3f-7842-4144-e658-9f00c505ecc5",
        "id": "IpudyVtdWD40"
      },
      "outputs": [
        {
          "output_type": "stream",
          "name": "stdout",
          "text": [
            "商品欄:  apple/25,banana/12,cherry/30\n",
            "購物車:  \n",
            "功能列: 1.新增商品 2.移除商品 3.結帳 4.離開\n",
            "4\n",
            "離開\n"
          ]
        }
      ],
      "source": [
        "##EX01-06 簡易購物車\n",
        "from IPython.display import clear_output\n",
        "shopping_cart = []\n",
        "products = { \"apple\": 25, \"banana\": 12, \"cherry\": 30 }\n",
        "lst = []\n",
        "while True:\n",
        "    clear_output()\n",
        "    print('商品欄: ',','.join([f'{na}/{pr}'for na, pr in products.items()]))\n",
        "    print('購物車: ',','.join(shopping_cart))\n",
        "    print('功能列: 1.新增商品 2.移除商品 3.結帳 4.離開')\n",
        "    act=input()\n",
        "    if act[0] =='1':\n",
        "      shopping_cart.append(act[1:])\n",
        "    elif act[0] =='2':\n",
        "      shopping_cart.remove(act[1:])\n",
        "    elif act[0] =='3':\n",
        "      tt=0\n",
        "      for pd in shopping_cart:\n",
        "        tt += products[pd]\n",
        "      print(f'商品總共{tt}元')\n",
        "      break\n",
        "    else:\n",
        "      print('離開')\n",
        "      break\n",
        "\n",
        "\n"
      ]
    }
  ]
}