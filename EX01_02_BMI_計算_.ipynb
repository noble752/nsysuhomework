{
  "nbformat": 4,
  "nbformat_minor": 0,
  "metadata": {
    "colab": {
      "provenance": [],
      "authorship_tag": "ABX9TyNZqVhAf0L82YZPd+vcwq6e",
      "include_colab_link": true
    },
    "kernelspec": {
      "name": "python3",
      "display_name": "Python 3"
    },
    "language_info": {
      "name": "python"
    }
  },
  "cells": [
    {
      "cell_type": "markdown",
      "metadata": {
        "id": "view-in-github",
        "colab_type": "text"
      },
      "source": [
        "<a href=\"https://colab.research.google.com/github/noble752/nsysuhomework/blob/main/EX01_02_BMI_%E8%A8%88%E7%AE%97_.ipynb\" target=\"_parent\"><img src=\"https://colab.research.google.com/assets/colab-badge.svg\" alt=\"Open In Colab\"/></a>"
      ]
    },
    {
      "cell_type": "code",
      "execution_count": 1,
      "metadata": {
        "colab": {
          "base_uri": "https://localhost:8080/"
        },
        "id": "RrbRETMpK25f",
        "outputId": "53709c4e-ae9e-4839-b5e1-1ef86ddb030e"
      },
      "outputs": [
        {
          "output_type": "stream",
          "name": "stdout",
          "text": [
            "請輸入體重(公斤)：74.5\n",
            "請輸入身高(公分)：183\n",
            "bmi =  22.2\n"
          ]
        }
      ],
      "source": [
        "# EX01-02 BMI 計算\n",
        "w = float(input(\"請輸入體重(公斤)：\"))\n",
        "h = float(input(\"請輸入身高(公分)：\"))\n",
        "bmi = w / (h/100)**2\n",
        "print('bmi = ',round(bmi, 1))"
      ]
    }
  ]
}