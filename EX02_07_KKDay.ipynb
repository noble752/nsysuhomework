{
  "nbformat": 4,
  "nbformat_minor": 0,
  "metadata": {
    "colab": {
      "provenance": [],
      "authorship_tag": "ABX9TyMfNZxON0T+NgOudNmuQlS0",
      "include_colab_link": true
    },
    "kernelspec": {
      "name": "python3",
      "display_name": "Python 3"
    },
    "language_info": {
      "name": "python"
    }
  },
  "cells": [
    {
      "cell_type": "markdown",
      "metadata": {
        "id": "view-in-github",
        "colab_type": "text"
      },
      "source": [
        "<a href=\"https://colab.research.google.com/github/noble752/nsysuhomework/blob/main/EX02_07_KKDay.ipynb\" target=\"_parent\"><img src=\"https://colab.research.google.com/assets/colab-badge.svg\" alt=\"Open In Colab\"/></a>"
      ]
    },
    {
      "cell_type": "code",
      "execution_count": null,
      "metadata": {
        "colab": {
          "base_uri": "https://localhost:8080/"
        },
        "id": "pLix42x1didr",
        "outputId": "7807cd77-5c3b-446d-d5e2-a092518f636d"
      },
      "outputs": [
        {
          "output_type": "execute_result",
          "data": {
            "text/plain": [
              "<title>最熱門 東京 住宿 - 2025 更新 - KKday</title>"
            ]
          },
          "metadata": {},
          "execution_count": 1
        }
      ],
      "source": [
        "import requests\n",
        "from bs4 import BeautifulSoup\n",
        "\n",
        "\n",
        "url = 'https://www.kkday.com/zh-tw/category/jp-tokyo/accommodation/'\n",
        "headers ={'user-agent':'Mozilla/5.0 (Windows NT 10.0; Win64; x64) AppleWebKit/537.36 (KHTML, like Gecko) Chrome/134.0.0.0 Safari/537.36'}\n",
        "response = requests.get(url, headers=headers)\n",
        "soup = BeautifulSoup(response.text, 'lxml')\n",
        "soup.title"
      ]
    },
    {
      "cell_type": "code",
      "source": [
        "soup.find('h3',class_=\"product-card__title\").text"
      ],
      "metadata": {
        "colab": {
          "base_uri": "https://localhost:8080/",
          "height": 141
        },
        "id": "qpqDUcSvAOGk",
        "outputId": "df45c51f-1e9d-4882-a4b5-713bf61519f1"
      },
      "execution_count": null,
      "outputs": [
        {
          "output_type": "error",
          "ename": "AttributeError",
          "evalue": "'NoneType' object has no attribute 'text'",
          "traceback": [
            "\u001b[0;31m---------------------------------------------------------------------------\u001b[0m",
            "\u001b[0;31mAttributeError\u001b[0m                            Traceback (most recent call last)",
            "\u001b[0;32m<ipython-input-2-544f1d62fcbc>\u001b[0m in \u001b[0;36m<cell line: 0>\u001b[0;34m()\u001b[0m\n\u001b[0;32m----> 1\u001b[0;31m \u001b[0msoup\u001b[0m\u001b[0;34m.\u001b[0m\u001b[0mfind\u001b[0m\u001b[0;34m(\u001b[0m\u001b[0;34m'h3'\u001b[0m\u001b[0;34m,\u001b[0m\u001b[0mclass_\u001b[0m\u001b[0;34m=\u001b[0m\u001b[0;34m\"product-card__title\"\u001b[0m\u001b[0;34m)\u001b[0m\u001b[0;34m.\u001b[0m\u001b[0mtext\u001b[0m\u001b[0;34m\u001b[0m\u001b[0;34m\u001b[0m\u001b[0m\n\u001b[0m",
            "\u001b[0;31mAttributeError\u001b[0m: 'NoneType' object has no attribute 'text'"
          ]
        }
      ]
    },
    {
      "cell_type": "code",
      "source": [
        "import requests\n",
        "url = 'https://www.kkday.com/zh-tw/category/ajax_get_top_products?productCategory=CATEGORY_078&destination=D-JP-3261'\n",
        "headers ={'user-agent':'Mozilla/5.0 (Windows NT 10.0; Win64; x64) AppleWebKit/537.36 (KHTML, like Gecko) Chrome/134.0.0.0 Safari/537.36'}\n",
        "response = requests.get(url, headers=headers)\n",
        "hotels = response.json()\n",
        "hotels['data']"
      ],
      "metadata": {
        "colab": {
          "base_uri": "https://localhost:8080/"
        },
        "id": "_MrQLuZFBNM1",
        "outputId": "4ea9ef18-a2ca-4b9a-a736-25e6c4a44c71"
      },
      "execution_count": null,
      "outputs": [
        {
          "output_type": "execute_result",
          "data": {
            "text/plain": [
              "[{'id': 187184,\n",
              "  'prod_oid': 187184,\n",
              "  'name': '秋葉原灣膠囊旅館',\n",
              "  'introduction': '秋葉原灣膠囊旅館,專為女性設計的膠囊住宿,安全舒適。即刻預訂,享受便捷的秋葉原之行!',\n",
              "  'rating_count': 1,\n",
              "  'rating_star': 5,\n",
              "  'order_count': 3,\n",
              "  'show_order_count': '',\n",
              "  'confirm_hour': 0,\n",
              "  'instant_booking': True,\n",
              "  'instant_use': True,\n",
              "  'free_refund_policy': True,\n",
              "  'free_refund_before_day': 8,\n",
              "  'earliest_sale_date': '20250401',\n",
              "  'sale_status': '1',\n",
              "  'purchase_type': None,\n",
              "  'purchase_date': None,\n",
              "  'is_tourism_product': True,\n",
              "  'readable_url': None,\n",
              "  'main_cat_key': 'M01',\n",
              "  'product_category': {'main': 'CATEGORY_078', 'sub': []},\n",
              "  'promo_tag_keys': [],\n",
              "  'cat_key': ['TAG_6_1'],\n",
              "  'theme_code': [],\n",
              "  'product_labels': [],\n",
              "  'img_url': 'https://image.kkday.com/image/get/w_600%2Cc_fit/s1.kkday.com/product_187184/20241002060713_qgqsZ/png',\n",
              "  'img_url_list': ['https://image.kkday.com/image/get/w_600%2Cc_fit/s1.kkday.com/product_187184/20241002060713_qgqsZ/png',\n",
              "   'https://image.kkday.com/image/get/w_600%2Cc_fit/s1.kkday.com/product_187184/20241002060713_bcMlR/png',\n",
              "   'https://image.kkday.com/image/get/w_600%2Cc_fit/s1.kkday.com/product_187184/20241002060713_eurcs/png',\n",
              "   'https://image.kkday.com/image/get/w_600%2Cc_fit/s1.kkday.com/product_187184/20241002060713_ilEHo/png',\n",
              "   'https://image.kkday.com/image/get/w_600%2Cc_fit/s1.kkday.com/product_187184/20241002060713_e1tGc/png'],\n",
              "  'duration': 0,\n",
              "  'days': 0,\n",
              "  'hours': 0,\n",
              "  'minutes': 0,\n",
              "  'currency': 'TWD',\n",
              "  'display_sale_price': '1,167',\n",
              "  'sale_price': 1167,\n",
              "  'display_price': '1,167',\n",
              "  'price': 1167,\n",
              "  'discount': 0,\n",
              "  'is_display_price': False,\n",
              "  'app_cheaper_than_web': False,\n",
              "  'max_price': 2313,\n",
              "  'countries': [{'id': 'A01-003',\n",
              "    'name': '日本',\n",
              "    'cities': [{'id': 'A01-003-99999', 'name': '所有城市'},\n",
              "     {'id': 'A01-003-00001', 'name': '東京'}]}],\n",
              "  'is_marketplace': False,\n",
              "  'supplier_oid_list': ['21011'],\n",
              "  'supplier_name': None,\n",
              "  'supplier_logo': None,\n",
              "  'supplier_award': 0,\n",
              "  'supplier_badge': 0,\n",
              "  'is_zero_price': False,\n",
              "  'destinations': [{'code': 'D-JP-3261', 'name': '東京'},\n",
              "   {'code': 'D-JP-3218', 'name': '關東'},\n",
              "   {'code': 'D-JP-112', 'name': '日本'}]},\n",
              " {'id': 187328,\n",
              "  'prod_oid': 187328,\n",
              "  'name': 'APA 飯店 - 京成上野站前',\n",
              "  'introduction': 'APA 飯店 - 京成上野站前,位於上野站前,方便探索東京景點。立即預訂,享受上野的都市便捷!',\n",
              "  'rating_count': 2,\n",
              "  'rating_star': 5,\n",
              "  'order_count': 9,\n",
              "  'show_order_count': '',\n",
              "  'confirm_hour': 0,\n",
              "  'instant_booking': True,\n",
              "  'instant_use': True,\n",
              "  'free_refund_policy': True,\n",
              "  'free_refund_before_day': 1,\n",
              "  'earliest_sale_date': '20250401',\n",
              "  'sale_status': '1',\n",
              "  'purchase_type': None,\n",
              "  'purchase_date': None,\n",
              "  'is_tourism_product': True,\n",
              "  'readable_url': None,\n",
              "  'main_cat_key': 'M01',\n",
              "  'product_category': {'main': 'CATEGORY_078', 'sub': []},\n",
              "  'promo_tag_keys': [],\n",
              "  'cat_key': ['TAG_6_1'],\n",
              "  'theme_code': [],\n",
              "  'product_labels': [],\n",
              "  'img_url': 'https://image.kkday.com/image/get/w_600%2Cc_fit/s1.kkday.com/product_187328/20241002110220_WNY3P/png',\n",
              "  'img_url_list': ['https://image.kkday.com/image/get/w_600%2Cc_fit/s1.kkday.com/product_187328/20241002110220_WNY3P/png',\n",
              "   'https://image.kkday.com/image/get/w_600%2Cc_fit/s1.kkday.com/product_187328/20241002110220_v0N1r/png',\n",
              "   'https://image.kkday.com/image/get/w_600%2Cc_fit/s1.kkday.com/product_187328/20241002110220_OdiD1/png',\n",
              "   'https://image.kkday.com/image/get/w_600%2Cc_fit/s1.kkday.com/product_187328/20241002110220_sxx2u/png',\n",
              "   'https://image.kkday.com/image/get/w_600%2Cc_fit/s1.kkday.com/product_187328/20241002110220_uEUHa/png'],\n",
              "  'duration': 0,\n",
              "  'days': 0,\n",
              "  'hours': 0,\n",
              "  'minutes': 0,\n",
              "  'currency': 'TWD',\n",
              "  'display_sale_price': '1,934',\n",
              "  'sale_price': 1934,\n",
              "  'display_price': '1,934',\n",
              "  'price': 1934,\n",
              "  'discount': 0,\n",
              "  'is_display_price': False,\n",
              "  'app_cheaper_than_web': False,\n",
              "  'max_price': 18552,\n",
              "  'countries': [{'id': 'A01-003',\n",
              "    'name': '日本',\n",
              "    'cities': [{'id': 'A01-003-99999', 'name': '所有城市'},\n",
              "     {'id': 'A01-003-00001', 'name': '東京'}]}],\n",
              "  'is_marketplace': False,\n",
              "  'supplier_oid_list': ['21011'],\n",
              "  'supplier_name': None,\n",
              "  'supplier_logo': None,\n",
              "  'supplier_award': 0,\n",
              "  'supplier_badge': 0,\n",
              "  'is_zero_price': False,\n",
              "  'destinations': [{'code': 'D-JP-3261', 'name': '東京'},\n",
              "   {'code': 'D-JP-3218', 'name': '關東'},\n",
              "   {'code': 'D-JP-112', 'name': '日本'}]},\n",
              " {'id': 186443,\n",
              "  'prod_oid': 186443,\n",
              "  'name': 'APA 飯店 - TKP日暮里站前',\n",
              "  'introduction': 'APA 飯店 - TKP日暮里站前,位於日暮里站附近,提供現代舒適設施。馬上預訂,享受東京的便捷生活!',\n",
              "  'rating_count': 0,\n",
              "  'rating_star': 0,\n",
              "  'order_count': 4,\n",
              "  'show_order_count': '',\n",
              "  'confirm_hour': 0,\n",
              "  'instant_booking': True,\n",
              "  'instant_use': True,\n",
              "  'free_refund_policy': True,\n",
              "  'free_refund_before_day': 1,\n",
              "  'earliest_sale_date': '20250401',\n",
              "  'sale_status': '1',\n",
              "  'purchase_type': None,\n",
              "  'purchase_date': None,\n",
              "  'is_tourism_product': True,\n",
              "  'readable_url': None,\n",
              "  'main_cat_key': 'M01',\n",
              "  'product_category': {'main': 'CATEGORY_078', 'sub': []},\n",
              "  'promo_tag_keys': [],\n",
              "  'cat_key': ['TAG_6_1'],\n",
              "  'theme_code': [],\n",
              "  'product_labels': [],\n",
              "  'img_url': 'https://image.kkday.com/image/get/w_600%2Cc_fit/s1.kkday.com/product_186443/20241002071236_4Qxut/png',\n",
              "  'img_url_list': ['https://image.kkday.com/image/get/w_600%2Cc_fit/s1.kkday.com/product_186443/20241002071236_4Qxut/png',\n",
              "   'https://image.kkday.com/image/get/w_600%2Cc_fit/s1.kkday.com/product_186443/20241002071236_yM4qH/png',\n",
              "   'https://image.kkday.com/image/get/w_600%2Cc_fit/s1.kkday.com/product_186443/20241002071236_wUWE0/png',\n",
              "   'https://image.kkday.com/image/get/w_600%2Cc_fit/s1.kkday.com/product_186443/20241002071236_raZxb/png',\n",
              "   'https://image.kkday.com/image/get/w_600%2Cc_fit/s1.kkday.com/product_186443/20241002071236_MwitU/png'],\n",
              "  'duration': 0,\n",
              "  'days': 0,\n",
              "  'hours': 0,\n",
              "  'minutes': 0,\n",
              "  'currency': 'TWD',\n",
              "  'display_sale_price': '1,939',\n",
              "  'sale_price': 1939,\n",
              "  'display_price': '1,939',\n",
              "  'price': 1939,\n",
              "  'discount': 0,\n",
              "  'is_display_price': False,\n",
              "  'app_cheaper_than_web': False,\n",
              "  'max_price': 12482,\n",
              "  'countries': [{'id': 'A01-003',\n",
              "    'name': '日本',\n",
              "    'cities': [{'id': 'A01-003-99999', 'name': '所有城市'},\n",
              "     {'id': 'A01-003-00001', 'name': '東京'}]}],\n",
              "  'is_marketplace': False,\n",
              "  'supplier_oid_list': ['21011'],\n",
              "  'supplier_name': None,\n",
              "  'supplier_logo': None,\n",
              "  'supplier_award': 0,\n",
              "  'supplier_badge': 0,\n",
              "  'is_zero_price': False,\n",
              "  'destinations': [{'code': 'D-JP-3261', 'name': '東京'},\n",
              "   {'code': 'D-JP-3218', 'name': '關東'},\n",
              "   {'code': 'D-JP-112', 'name': '日本'}]},\n",
              " {'id': 194684,\n",
              "  'prod_oid': 194684,\n",
              "  'name': '相鐵FRESA INN 東京錦糸町',\n",
              "  'introduction': '相鐵FRESA INN 東京錦糸町,交通便利,靠近東京站。即刻預訂,體驗東京的繁華生活!',\n",
              "  'rating_count': 0,\n",
              "  'rating_star': 0,\n",
              "  'order_count': 1,\n",
              "  'show_order_count': '',\n",
              "  'confirm_hour': 0,\n",
              "  'instant_booking': True,\n",
              "  'instant_use': True,\n",
              "  'free_refund_policy': True,\n",
              "  'free_refund_before_day': 2,\n",
              "  'earliest_sale_date': '20250401',\n",
              "  'sale_status': '1',\n",
              "  'purchase_type': None,\n",
              "  'purchase_date': None,\n",
              "  'is_tourism_product': True,\n",
              "  'readable_url': None,\n",
              "  'main_cat_key': 'M01',\n",
              "  'product_category': {'main': 'CATEGORY_078', 'sub': []},\n",
              "  'promo_tag_keys': [],\n",
              "  'cat_key': ['TAG_6_1'],\n",
              "  'theme_code': [],\n",
              "  'product_labels': [],\n",
              "  'img_url': 'https://image.kkday.com/image/get/w_600%2Cc_fit/s1.kkday.com/product_194684/20241009053024_xbVfK/png',\n",
              "  'img_url_list': ['https://image.kkday.com/image/get/w_600%2Cc_fit/s1.kkday.com/product_194684/20241009053024_xbVfK/png',\n",
              "   'https://image.kkday.com/image/get/w_600%2Cc_fit/s1.kkday.com/product_194684/20241009053023_JxI5d/png',\n",
              "   'https://image.kkday.com/image/get/w_600%2Cc_fit/s1.kkday.com/product_194684/20241009053023_guEwi/png',\n",
              "   'https://image.kkday.com/image/get/w_600%2Cc_fit/s1.kkday.com/product_194684/20241009053024_MNpLk/png',\n",
              "   'https://image.kkday.com/image/get/w_600%2Cc_fit/s1.kkday.com/product_194684/20241009053023_kZ99p/png'],\n",
              "  'duration': 0,\n",
              "  'days': 0,\n",
              "  'hours': 0,\n",
              "  'minutes': 0,\n",
              "  'currency': 'TWD',\n",
              "  'display_sale_price': '1,852',\n",
              "  'sale_price': 1852,\n",
              "  'display_price': '1,852',\n",
              "  'price': 1852,\n",
              "  'discount': 0,\n",
              "  'is_display_price': False,\n",
              "  'app_cheaper_than_web': False,\n",
              "  'max_price': 8588,\n",
              "  'countries': [{'id': 'A01-003',\n",
              "    'name': '日本',\n",
              "    'cities': [{'id': 'A01-003-99999', 'name': '所有城市'},\n",
              "     {'id': 'A01-003-00001', 'name': '東京'}]}],\n",
              "  'is_marketplace': False,\n",
              "  'supplier_oid_list': ['21011'],\n",
              "  'supplier_name': None,\n",
              "  'supplier_logo': None,\n",
              "  'supplier_award': 0,\n",
              "  'supplier_badge': 0,\n",
              "  'is_zero_price': False,\n",
              "  'destinations': [{'code': 'D-JP-3261', 'name': '東京'},\n",
              "   {'code': 'D-JP-3218', 'name': '關東'},\n",
              "   {'code': 'D-JP-112', 'name': '日本'}]},\n",
              " {'id': 186425,\n",
              "  'prod_oid': 186425,\n",
              "  'name': '上野雷索爾飯店',\n",
              "  'introduction': '上野雷索爾飯店,地理位置優越,步行即可達上野動物園,立即預訂,探索東京的多樣魅力!',\n",
              "  'rating_count': 1,\n",
              "  'rating_star': 5,\n",
              "  'order_count': 6,\n",
              "  'show_order_count': '',\n",
              "  'confirm_hour': 0,\n",
              "  'instant_booking': True,\n",
              "  'instant_use': True,\n",
              "  'free_refund_policy': True,\n",
              "  'free_refund_before_day': 2,\n",
              "  'earliest_sale_date': '20250401',\n",
              "  'sale_status': '1',\n",
              "  'purchase_type': None,\n",
              "  'purchase_date': None,\n",
              "  'is_tourism_product': True,\n",
              "  'readable_url': None,\n",
              "  'main_cat_key': 'M01',\n",
              "  'product_category': {'main': 'CATEGORY_078', 'sub': []},\n",
              "  'promo_tag_keys': [],\n",
              "  'cat_key': ['TAG_6_1'],\n",
              "  'theme_code': [],\n",
              "  'product_labels': [],\n",
              "  'img_url': 'https://image.kkday.com/image/get/w_600%2Cc_fit/s1.kkday.com/product_186425/20241001101639_Cfnpd/png',\n",
              "  'img_url_list': ['https://image.kkday.com/image/get/w_600%2Cc_fit/s1.kkday.com/product_186425/20241001101639_Cfnpd/png',\n",
              "   'https://image.kkday.com/image/get/w_600%2Cc_fit/s1.kkday.com/product_186425/20241001101639_My1rF/png',\n",
              "   'https://image.kkday.com/image/get/w_600%2Cc_fit/s1.kkday.com/product_186425/20241001101639_VsgVZ/png',\n",
              "   'https://image.kkday.com/image/get/w_600%2Cc_fit/s1.kkday.com/product_186425/20241001101639_MKpcm/png',\n",
              "   'https://image.kkday.com/image/get/w_600%2Cc_fit/s1.kkday.com/product_186425/20241001101639_pciqz/png'],\n",
              "  'duration': 0,\n",
              "  'days': 0,\n",
              "  'hours': 0,\n",
              "  'minutes': 0,\n",
              "  'currency': 'TWD',\n",
              "  'display_sale_price': '4,069',\n",
              "  'sale_price': 4069,\n",
              "  'display_price': '4,069',\n",
              "  'price': 4069,\n",
              "  'discount': 0,\n",
              "  'is_display_price': False,\n",
              "  'app_cheaper_than_web': False,\n",
              "  'max_price': 13951,\n",
              "  'countries': [{'id': 'A01-003',\n",
              "    'name': '日本',\n",
              "    'cities': [{'id': 'A01-003-99999', 'name': '所有城市'},\n",
              "     {'id': 'A01-003-00001', 'name': '東京'}]}],\n",
              "  'is_marketplace': False,\n",
              "  'supplier_oid_list': ['21011'],\n",
              "  'supplier_name': None,\n",
              "  'supplier_logo': None,\n",
              "  'supplier_award': 0,\n",
              "  'supplier_badge': 0,\n",
              "  'is_zero_price': False,\n",
              "  'destinations': [{'code': 'D-JP-3261', 'name': '東京'},\n",
              "   {'code': 'D-JP-3218', 'name': '關東'},\n",
              "   {'code': 'D-JP-112', 'name': '日本'}]},\n",
              " {'id': 188050,\n",
              "  'prod_oid': 188050,\n",
              "  'name': '淺草豪景飯店',\n",
              "  'introduction': '在淺草豪景飯店享受優質服務與迷人景觀,輕鬆到達淺草寺,馬上預訂,體驗東京傳統!',\n",
              "  'rating_count': 0,\n",
              "  'rating_star': 0,\n",
              "  'order_count': 3,\n",
              "  'show_order_count': '',\n",
              "  'confirm_hour': 0,\n",
              "  'instant_booking': True,\n",
              "  'instant_use': True,\n",
              "  'free_refund_policy': True,\n",
              "  'free_refund_before_day': 2,\n",
              "  'earliest_sale_date': '20250401',\n",
              "  'sale_status': '1',\n",
              "  'purchase_type': None,\n",
              "  'purchase_date': None,\n",
              "  'is_tourism_product': True,\n",
              "  'readable_url': None,\n",
              "  'main_cat_key': 'M01',\n",
              "  'product_category': {'main': 'CATEGORY_078', 'sub': []},\n",
              "  'promo_tag_keys': [],\n",
              "  'cat_key': ['TAG_6_1'],\n",
              "  'theme_code': [],\n",
              "  'product_labels': [],\n",
              "  'img_url': 'https://image.kkday.com/image/get/w_600%2Cc_fit/s1.kkday.com/product_188050/20241003085115_7tDa5/png',\n",
              "  'img_url_list': ['https://image.kkday.com/image/get/w_600%2Cc_fit/s1.kkday.com/product_188050/20241003085115_7tDa5/png',\n",
              "   'https://image.kkday.com/image/get/w_600%2Cc_fit/s1.kkday.com/product_188050/20241003085115_bVQeW/png',\n",
              "   'https://image.kkday.com/image/get/w_600%2Cc_fit/s1.kkday.com/product_188050/20241003085115_6aDz0/png',\n",
              "   'https://image.kkday.com/image/get/w_600%2Cc_fit/s1.kkday.com/product_188050/20241003085115_cPokS/png',\n",
              "   'https://image.kkday.com/image/get/w_600%2Cc_fit/s1.kkday.com/product_188050/20241003085115_e0SVw/png'],\n",
              "  'duration': 0,\n",
              "  'days': 0,\n",
              "  'hours': 0,\n",
              "  'minutes': 0,\n",
              "  'currency': 'TWD',\n",
              "  'display_sale_price': '4,187',\n",
              "  'sale_price': 4187,\n",
              "  'display_price': '4,187',\n",
              "  'price': 4187,\n",
              "  'discount': 0,\n",
              "  'is_display_price': False,\n",
              "  'app_cheaper_than_web': False,\n",
              "  'max_price': 30968,\n",
              "  'countries': [{'id': 'A01-003',\n",
              "    'name': '日本',\n",
              "    'cities': [{'id': 'A01-003-99999', 'name': '所有城市'},\n",
              "     {'id': 'A01-003-00001', 'name': '東京'}]}],\n",
              "  'is_marketplace': False,\n",
              "  'supplier_oid_list': ['21011'],\n",
              "  'supplier_name': None,\n",
              "  'supplier_logo': None,\n",
              "  'supplier_award': 0,\n",
              "  'supplier_badge': 0,\n",
              "  'is_zero_price': False,\n",
              "  'destinations': [{'code': 'D-JP-3639', 'name': '淺草'},\n",
              "   {'code': 'D-JP-3261', 'name': '東京'},\n",
              "   {'code': 'D-JP-3218', 'name': '關東'},\n",
              "   {'code': 'D-JP-112', 'name': '日本'}]},\n",
              " {'id': 244886,\n",
              "  'prod_oid': 244886,\n",
              "  'name': '上野御徒町超級飯店',\n",
              "  'introduction': '上野御徒町超級飯店,靠近上野公園和博物館,便捷至東京主要景點,立即預訂,享受便利住宿!',\n",
              "  'rating_count': 2,\n",
              "  'rating_star': 5,\n",
              "  'order_count': 8,\n",
              "  'show_order_count': '',\n",
              "  'confirm_hour': 0,\n",
              "  'instant_booking': True,\n",
              "  'instant_use': True,\n",
              "  'free_refund_policy': True,\n",
              "  'free_refund_before_day': 1,\n",
              "  'earliest_sale_date': '20250401',\n",
              "  'sale_status': '1',\n",
              "  'purchase_type': None,\n",
              "  'purchase_date': None,\n",
              "  'is_tourism_product': True,\n",
              "  'readable_url': None,\n",
              "  'main_cat_key': 'M01',\n",
              "  'product_category': {'main': 'CATEGORY_078', 'sub': []},\n",
              "  'promo_tag_keys': [],\n",
              "  'cat_key': ['TAG_6_1'],\n",
              "  'theme_code': [],\n",
              "  'product_labels': [],\n",
              "  'img_url': 'https://image.kkday.com/image/get/w_600%2Cc_fit/s1.kkday.com/product_244886/20241006071617_0EYB1/png',\n",
              "  'img_url_list': ['https://image.kkday.com/image/get/w_600%2Cc_fit/s1.kkday.com/product_244886/20241006071617_0EYB1/png',\n",
              "   'https://image.kkday.com/image/get/w_600%2Cc_fit/s1.kkday.com/product_244886/20241006071617_vraiP/png',\n",
              "   'https://image.kkday.com/image/get/w_600%2Cc_fit/s1.kkday.com/product_244886/20241006071617_YgLf6/png',\n",
              "   'https://image.kkday.com/image/get/w_600%2Cc_fit/s1.kkday.com/product_244886/20241006071617_lQ4fM/png',\n",
              "   'https://image.kkday.com/image/get/w_600%2Cc_fit/s1.kkday.com/product_244886/20241006071617_8XjLo/png'],\n",
              "  'duration': 0,\n",
              "  'days': 0,\n",
              "  'hours': 0,\n",
              "  'minutes': 0,\n",
              "  'currency': 'TWD',\n",
              "  'display_sale_price': '2,162',\n",
              "  'sale_price': 2162,\n",
              "  'display_price': '2,162',\n",
              "  'price': 2162,\n",
              "  'discount': 0,\n",
              "  'is_display_price': False,\n",
              "  'app_cheaper_than_web': False,\n",
              "  'max_price': 9809,\n",
              "  'countries': [{'id': 'A01-003',\n",
              "    'name': '日本',\n",
              "    'cities': [{'id': 'A01-003-99999', 'name': '所有城市'},\n",
              "     {'id': 'A01-003-00001', 'name': '東京'}]}],\n",
              "  'is_marketplace': False,\n",
              "  'supplier_oid_list': ['21011'],\n",
              "  'supplier_name': None,\n",
              "  'supplier_logo': None,\n",
              "  'supplier_award': 0,\n",
              "  'supplier_badge': 0,\n",
              "  'is_zero_price': False,\n",
              "  'destinations': [{'code': 'D-JP-3261', 'name': '東京'},\n",
              "   {'code': 'D-JP-3218', 'name': '關東'},\n",
              "   {'code': 'D-JP-112', 'name': '日本'}]},\n",
              " {'id': 193898,\n",
              "  'prod_oid': 193898,\n",
              "  'name': '日暮里阿爾蒙特飯店',\n",
              "  'introduction': '享受日暮里阿爾蒙特飯店的舒適住宿,便捷至東京主要景點,立即預訂,開啟您的東京之旅!',\n",
              "  'rating_count': 0,\n",
              "  'rating_star': 0,\n",
              "  'order_count': 4,\n",
              "  'show_order_count': '',\n",
              "  'confirm_hour': 0,\n",
              "  'instant_booking': True,\n",
              "  'instant_use': True,\n",
              "  'free_refund_policy': True,\n",
              "  'free_refund_before_day': 2,\n",
              "  'earliest_sale_date': '20250401',\n",
              "  'sale_status': '1',\n",
              "  'purchase_type': None,\n",
              "  'purchase_date': None,\n",
              "  'is_tourism_product': True,\n",
              "  'readable_url': None,\n",
              "  'main_cat_key': 'M01',\n",
              "  'product_category': {'main': 'CATEGORY_078', 'sub': []},\n",
              "  'promo_tag_keys': [],\n",
              "  'cat_key': ['TAG_6_1'],\n",
              "  'theme_code': [],\n",
              "  'product_labels': [],\n",
              "  'img_url': 'https://image.kkday.com/image/get/w_600%2Cc_fit/s1.kkday.com/product_193898/20241029064831_EWA64/png',\n",
              "  'img_url_list': ['https://image.kkday.com/image/get/w_600%2Cc_fit/s1.kkday.com/product_193898/20241029064831_EWA64/png',\n",
              "   'https://image.kkday.com/image/get/w_600%2Cc_fit/s1.kkday.com/product_193898/20241029064831_TGZqI/png',\n",
              "   'https://image.kkday.com/image/get/w_600%2Cc_fit/s1.kkday.com/product_193898/20241029064831_fTiBR/png',\n",
              "   'https://image.kkday.com/image/get/w_600%2Cc_fit/s1.kkday.com/product_193898/20241029064831_UvuMF/png',\n",
              "   'https://image.kkday.com/image/get/w_600%2Cc_fit/s1.kkday.com/product_193898/20241029064831_M7mwD/png'],\n",
              "  'duration': 0,\n",
              "  'days': 0,\n",
              "  'hours': 0,\n",
              "  'minutes': 0,\n",
              "  'currency': 'TWD',\n",
              "  'display_sale_price': '3,069',\n",
              "  'sale_price': 3069,\n",
              "  'display_price': '3,069',\n",
              "  'price': 3069,\n",
              "  'discount': 0,\n",
              "  'is_display_price': False,\n",
              "  'app_cheaper_than_web': False,\n",
              "  'max_price': 20529,\n",
              "  'countries': [{'id': 'A01-003',\n",
              "    'name': '日本',\n",
              "    'cities': [{'id': 'A01-003-99999', 'name': '所有城市'},\n",
              "     {'id': 'A01-003-00001', 'name': '東京'}]}],\n",
              "  'is_marketplace': False,\n",
              "  'supplier_oid_list': ['21011'],\n",
              "  'supplier_name': None,\n",
              "  'supplier_logo': None,\n",
              "  'supplier_award': 0,\n",
              "  'supplier_badge': 0,\n",
              "  'is_zero_price': False,\n",
              "  'destinations': [{'code': 'D-JP-3261', 'name': '東京'},\n",
              "   {'code': 'D-JP-3218', 'name': '關東'},\n",
              "   {'code': 'D-JP-112', 'name': '日本'}]},\n",
              " {'id': 250653,\n",
              "  'prod_oid': 250653,\n",
              "  'name': 'OMO3 淺草 by 星野集團',\n",
              "  'introduction': 'Old Tokyo of Nostalgiato the Unfamiliar 從機場線 羽田機場第1、第2航廈站 搭乘普通電車 (40分鐘)',\n",
              "  'rating_count': 0,\n",
              "  'rating_star': 0,\n",
              "  'order_count': 0,\n",
              "  'show_order_count': '',\n",
              "  'confirm_hour': 0,\n",
              "  'instant_booking': True,\n",
              "  'instant_use': True,\n",
              "  'free_refund_policy': True,\n",
              "  'free_refund_before_day': 22,\n",
              "  'earliest_sale_date': '20250401',\n",
              "  'sale_status': '1',\n",
              "  'purchase_type': None,\n",
              "  'purchase_date': None,\n",
              "  'is_tourism_product': True,\n",
              "  'readable_url': None,\n",
              "  'main_cat_key': 'M01',\n",
              "  'product_category': {'main': 'CATEGORY_078', 'sub': []},\n",
              "  'promo_tag_keys': [],\n",
              "  'cat_key': ['TAG_6_1'],\n",
              "  'theme_code': [],\n",
              "  'product_labels': [],\n",
              "  'img_url': 'https://image.kkday.com/image/get/w_600%2Cc_fit/s1.kkday.com/product_250653/20240930163835_HkOxQ/png',\n",
              "  'img_url_list': ['https://image.kkday.com/image/get/w_600%2Cc_fit/s1.kkday.com/product_250653/20240930163835_HkOxQ/png',\n",
              "   'https://image.kkday.com/image/get/w_600%2Cc_fit/s1.kkday.com/product_250653/20240930163835_Fa7sT/png',\n",
              "   'https://image.kkday.com/image/get/w_600%2Cc_fit/s1.kkday.com/product_250653/20240930163835_EUb2r/png',\n",
              "   'https://image.kkday.com/image/get/w_600%2Cc_fit/s1.kkday.com/product_250653/20240930163835_GtPjO/png',\n",
              "   'https://image.kkday.com/image/get/w_600%2Cc_fit/s1.kkday.com/product_250653/20240930163835_UaxV9/png'],\n",
              "  'duration': 0,\n",
              "  'days': 0,\n",
              "  'hours': 0,\n",
              "  'minutes': 0,\n",
              "  'currency': 'TWD',\n",
              "  'display_sale_price': '5,759',\n",
              "  'sale_price': 5759,\n",
              "  'display_price': '5,759',\n",
              "  'price': 5759,\n",
              "  'discount': 0,\n",
              "  'is_display_price': False,\n",
              "  'app_cheaper_than_web': False,\n",
              "  'max_price': 16276,\n",
              "  'countries': [{'id': 'A01-003',\n",
              "    'name': '日本',\n",
              "    'cities': [{'id': 'A01-003-99999', 'name': '所有城市'},\n",
              "     {'id': 'A01-003-00001', 'name': '東京'}]}],\n",
              "  'is_marketplace': False,\n",
              "  'supplier_oid_list': ['21011'],\n",
              "  'supplier_name': None,\n",
              "  'supplier_logo': None,\n",
              "  'supplier_award': 0,\n",
              "  'supplier_badge': 0,\n",
              "  'is_zero_price': False,\n",
              "  'destinations': [{'code': 'D-JP-3261', 'name': '東京'},\n",
              "   {'code': 'D-JP-3218', 'name': '關東'},\n",
              "   {'code': 'D-JP-112', 'name': '日本'}]},\n",
              " {'id': 250652,\n",
              "  'prod_oid': 250652,\n",
              "  'name': 'OMO5 東京五反田 by 星野集團',\n",
              "  'introduction': 'Drop-dead night views in food heaven 從東海道新幹線 東京站 搭乘普通電車到山手線 五反田站 (18分鐘), 從山手線 五反田站 步行 (8分鐘)',\n",
              "  'rating_count': 0,\n",
              "  'rating_star': 0,\n",
              "  'order_count': 0,\n",
              "  'show_order_count': '',\n",
              "  'confirm_hour': 0,\n",
              "  'instant_booking': True,\n",
              "  'instant_use': True,\n",
              "  'free_refund_policy': True,\n",
              "  'free_refund_before_day': 22,\n",
              "  'earliest_sale_date': '20250404',\n",
              "  'sale_status': '1',\n",
              "  'purchase_type': None,\n",
              "  'purchase_date': None,\n",
              "  'is_tourism_product': True,\n",
              "  'readable_url': None,\n",
              "  'main_cat_key': 'M01',\n",
              "  'product_category': {'main': 'CATEGORY_078', 'sub': []},\n",
              "  'promo_tag_keys': [],\n",
              "  'cat_key': ['TAG_6_1'],\n",
              "  'theme_code': [],\n",
              "  'product_labels': [],\n",
              "  'img_url': 'https://image.kkday.com/image/get/w_600%2Cc_fit/s1.kkday.com/product_250652/20240930163806_T8DUz/png',\n",
              "  'img_url_list': ['https://image.kkday.com/image/get/w_600%2Cc_fit/s1.kkday.com/product_250652/20240930163806_T8DUz/png',\n",
              "   'https://image.kkday.com/image/get/w_600%2Cc_fit/s1.kkday.com/product_250652/20240930163806_CZG7x/png',\n",
              "   'https://image.kkday.com/image/get/w_600%2Cc_fit/s1.kkday.com/product_250652/20240930163806_2yZEW/png',\n",
              "   'https://image.kkday.com/image/get/w_600%2Cc_fit/s1.kkday.com/product_250652/20240930163806_89R5H/png',\n",
              "   'https://image.kkday.com/image/get/w_600%2Cc_fit/s1.kkday.com/product_250652/20240930163806_4ttdz/png'],\n",
              "  'duration': 0,\n",
              "  'days': 0,\n",
              "  'hours': 0,\n",
              "  'minutes': 0,\n",
              "  'currency': 'TWD',\n",
              "  'display_sale_price': '6,089',\n",
              "  'sale_price': 6089,\n",
              "  'display_price': '6,089',\n",
              "  'price': 6089,\n",
              "  'discount': 0,\n",
              "  'is_display_price': False,\n",
              "  'app_cheaper_than_web': False,\n",
              "  'max_price': 24027,\n",
              "  'countries': [{'id': 'A01-003',\n",
              "    'name': '日本',\n",
              "    'cities': [{'id': 'A01-003-99999', 'name': '所有城市'},\n",
              "     {'id': 'A01-003-00001', 'name': '東京'}]}],\n",
              "  'is_marketplace': False,\n",
              "  'supplier_oid_list': ['21011'],\n",
              "  'supplier_name': None,\n",
              "  'supplier_logo': None,\n",
              "  'supplier_award': 0,\n",
              "  'supplier_badge': 0,\n",
              "  'is_zero_price': False,\n",
              "  'destinations': [{'code': 'D-JP-3261', 'name': '東京'},\n",
              "   {'code': 'D-JP-3218', 'name': '關東'},\n",
              "   {'code': 'D-JP-112', 'name': '日本'}]}]"
            ]
          },
          "metadata": {},
          "execution_count": 5
        }
      ]
    },
    {
      "cell_type": "code",
      "source": [
        "from IPython.display import Image, display\n",
        "for hotel in hotels['data']:\n",
        "    print(hotel['name'], hotel['rating_star'],hotel['sale_price'])\n",
        "    print(hotel['introduction'])\n",
        "    display(Image(url=hotel['img_url'],width=300))\n",
        "    print('-'*3)\n",
        "    print()"
      ],
      "metadata": {
        "colab": {
          "base_uri": "https://localhost:8080/",
          "height": 1000
        },
        "id": "FNnInitLCfVM",
        "outputId": "fb5e2bfe-13bb-4380-e016-c264df64845b"
      },
      "execution_count": null,
      "outputs": [
        {
          "output_type": "stream",
          "name": "stdout",
          "text": [
            "秋葉原灣膠囊旅館 5 1167\n",
            "秋葉原灣膠囊旅館,專為女性設計的膠囊住宿,安全舒適。即刻預訂,享受便捷的秋葉原之行!\n"
          ]
        },
        {
          "output_type": "display_data",
          "data": {
            "text/html": [
              "<img src=\"https://image.kkday.com/image/get/w_600%2Cc_fit/s1.kkday.com/product_187184/20241002060713_qgqsZ/png\" width=\"300\"/>"
            ],
            "text/plain": [
              "<IPython.core.display.Image object>"
            ]
          },
          "metadata": {}
        },
        {
          "output_type": "stream",
          "name": "stdout",
          "text": [
            "---\n",
            "\n",
            "APA 飯店 - 京成上野站前 5 1934\n",
            "APA 飯店 - 京成上野站前,位於上野站前,方便探索東京景點。立即預訂,享受上野的都市便捷!\n"
          ]
        },
        {
          "output_type": "display_data",
          "data": {
            "text/html": [
              "<img src=\"https://image.kkday.com/image/get/w_600%2Cc_fit/s1.kkday.com/product_187328/20241002110220_WNY3P/png\" width=\"300\"/>"
            ],
            "text/plain": [
              "<IPython.core.display.Image object>"
            ]
          },
          "metadata": {}
        },
        {
          "output_type": "stream",
          "name": "stdout",
          "text": [
            "---\n",
            "\n",
            "APA 飯店 - TKP日暮里站前 0 1939\n",
            "APA 飯店 - TKP日暮里站前,位於日暮里站附近,提供現代舒適設施。馬上預訂,享受東京的便捷生活!\n"
          ]
        },
        {
          "output_type": "display_data",
          "data": {
            "text/html": [
              "<img src=\"https://image.kkday.com/image/get/w_600%2Cc_fit/s1.kkday.com/product_186443/20241002071236_4Qxut/png\" width=\"300\"/>"
            ],
            "text/plain": [
              "<IPython.core.display.Image object>"
            ]
          },
          "metadata": {}
        },
        {
          "output_type": "stream",
          "name": "stdout",
          "text": [
            "---\n",
            "\n",
            "相鐵FRESA INN 東京錦糸町 0 1852\n",
            "相鐵FRESA INN 東京錦糸町,交通便利,靠近東京站。即刻預訂,體驗東京的繁華生活!\n"
          ]
        },
        {
          "output_type": "display_data",
          "data": {
            "text/html": [
              "<img src=\"https://image.kkday.com/image/get/w_600%2Cc_fit/s1.kkday.com/product_194684/20241009053024_xbVfK/png\" width=\"300\"/>"
            ],
            "text/plain": [
              "<IPython.core.display.Image object>"
            ]
          },
          "metadata": {}
        },
        {
          "output_type": "stream",
          "name": "stdout",
          "text": [
            "---\n",
            "\n",
            "上野雷索爾飯店 5 4069\n",
            "上野雷索爾飯店,地理位置優越,步行即可達上野動物園,立即預訂,探索東京的多樣魅力!\n"
          ]
        },
        {
          "output_type": "display_data",
          "data": {
            "text/html": [
              "<img src=\"https://image.kkday.com/image/get/w_600%2Cc_fit/s1.kkday.com/product_186425/20241001101639_Cfnpd/png\" width=\"300\"/>"
            ],
            "text/plain": [
              "<IPython.core.display.Image object>"
            ]
          },
          "metadata": {}
        },
        {
          "output_type": "stream",
          "name": "stdout",
          "text": [
            "---\n",
            "\n",
            "淺草豪景飯店 0 4187\n",
            "在淺草豪景飯店享受優質服務與迷人景觀,輕鬆到達淺草寺,馬上預訂,體驗東京傳統!\n"
          ]
        },
        {
          "output_type": "display_data",
          "data": {
            "text/html": [
              "<img src=\"https://image.kkday.com/image/get/w_600%2Cc_fit/s1.kkday.com/product_188050/20241003085115_7tDa5/png\" width=\"300\"/>"
            ],
            "text/plain": [
              "<IPython.core.display.Image object>"
            ]
          },
          "metadata": {}
        },
        {
          "output_type": "stream",
          "name": "stdout",
          "text": [
            "---\n",
            "\n",
            "上野御徒町超級飯店 5 2162\n",
            "上野御徒町超級飯店,靠近上野公園和博物館,便捷至東京主要景點,立即預訂,享受便利住宿!\n"
          ]
        },
        {
          "output_type": "display_data",
          "data": {
            "text/html": [
              "<img src=\"https://image.kkday.com/image/get/w_600%2Cc_fit/s1.kkday.com/product_244886/20241006071617_0EYB1/png\" width=\"300\"/>"
            ],
            "text/plain": [
              "<IPython.core.display.Image object>"
            ]
          },
          "metadata": {}
        },
        {
          "output_type": "stream",
          "name": "stdout",
          "text": [
            "---\n",
            "\n",
            "日暮里阿爾蒙特飯店 0 3069\n",
            "享受日暮里阿爾蒙特飯店的舒適住宿,便捷至東京主要景點,立即預訂,開啟您的東京之旅!\n"
          ]
        },
        {
          "output_type": "display_data",
          "data": {
            "text/html": [
              "<img src=\"https://image.kkday.com/image/get/w_600%2Cc_fit/s1.kkday.com/product_193898/20241029064831_EWA64/png\" width=\"300\"/>"
            ],
            "text/plain": [
              "<IPython.core.display.Image object>"
            ]
          },
          "metadata": {}
        },
        {
          "output_type": "stream",
          "name": "stdout",
          "text": [
            "---\n",
            "\n",
            "OMO3 淺草 by 星野集團 0 5759\n",
            "Old Tokyo of Nostalgiato the Unfamiliar 從機場線 羽田機場第1、第2航廈站 搭乘普通電車 (40分鐘)\n"
          ]
        },
        {
          "output_type": "display_data",
          "data": {
            "text/html": [
              "<img src=\"https://image.kkday.com/image/get/w_600%2Cc_fit/s1.kkday.com/product_250653/20240930163835_HkOxQ/png\" width=\"300\"/>"
            ],
            "text/plain": [
              "<IPython.core.display.Image object>"
            ]
          },
          "metadata": {}
        },
        {
          "output_type": "stream",
          "name": "stdout",
          "text": [
            "---\n",
            "\n",
            "OMO5 東京五反田 by 星野集團 0 6089\n",
            "Drop-dead night views in food heaven 從東海道新幹線 東京站 搭乘普通電車到山手線 五反田站 (18分鐘), 從山手線 五反田站 步行 (8分鐘)\n"
          ]
        },
        {
          "output_type": "display_data",
          "data": {
            "text/html": [
              "<img src=\"https://image.kkday.com/image/get/w_600%2Cc_fit/s1.kkday.com/product_250652/20240930163806_T8DUz/png\" width=\"300\"/>"
            ],
            "text/plain": [
              "<IPython.core.display.Image object>"
            ]
          },
          "metadata": {}
        },
        {
          "output_type": "stream",
          "name": "stdout",
          "text": [
            "---\n",
            "\n"
          ]
        }
      ]
    },
    {
      "cell_type": "markdown",
      "source": [],
      "metadata": {
        "id": "uhTNBb4JDya_"
      }
    }
  ]
}