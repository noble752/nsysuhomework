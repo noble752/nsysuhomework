{
  "nbformat": 4,
  "nbformat_minor": 0,
  "metadata": {
    "colab": {
      "provenance": [],
      "authorship_tag": "ABX9TyMK+IC+p90F0o3njXghGGMW",
      "include_colab_link": true
    },
    "kernelspec": {
      "name": "python3",
      "display_name": "Python 3"
    },
    "language_info": {
      "name": "python"
    }
  },
  "cells": [
    {
      "cell_type": "markdown",
      "metadata": {
        "id": "view-in-github",
        "colab_type": "text"
      },
      "source": [
        "<a href=\"https://colab.research.google.com/github/noble752/nsysuhomework/blob/main/EX01_04_%E7%B5%82%E6%A5%B5%E5%AF%86%E7%A2%BC.ipynb\" target=\"_parent\"><img src=\"https://colab.research.google.com/assets/colab-badge.svg\" alt=\"Open In Colab\"/></a>"
      ]
    },
    {
      "cell_type": "code",
      "execution_count": 9,
      "metadata": {
        "colab": {
          "base_uri": "https://localhost:8080/"
        },
        "id": "Yh7WdqqjvarQ",
        "outputId": "e2babd76-5bf9-4f5e-92ef-698e8d5174ea"
      },
      "outputs": [
        {
          "output_type": "stream",
          "name": "stdout",
          "text": [
            "範圍是 1 - 99\n",
            "猜個數字0\n",
            "不要亂輸入\n",
            "範圍是 1 - 99\n",
            "猜個數字100\n",
            "不要亂輸入\n",
            "範圍是 1 - 99\n",
            "猜個數字50\n",
            "範圍是 1 - 50\n",
            "猜個數字25\n",
            "範圍是 25 - 50\n",
            "猜個數字37\n",
            "範圍是 37 - 50\n",
            "猜個數字42\n",
            "範圍是 42 - 50\n",
            "猜個數字46\n",
            "範圍是 42 - 46\n",
            "猜個數字44\n",
            "範圍是 44 - 46\n",
            "猜個數字45\n",
            "答對了\n",
            "答案是45\n"
          ]
        }
      ],
      "source": [
        "## EX01-04 終極密碼\n",
        "import random\n",
        "ans = random.randint(1,99)\n",
        "gs = 0\n",
        "small = 1\n",
        "big = 99\n",
        "while gs != ans:\n",
        "  print('範圍是',small,'-',big)\n",
        "  gs = int(input('猜個數字'))\n",
        "  if not gs in range(small,big):\n",
        "    print('不要亂輸入')\n",
        "  elif gs > ans:\n",
        "    big = gs\n",
        "  elif gs < ans:\n",
        "    small = gs\n",
        "  else :\n",
        "    print('答對了')\n",
        "print(f'答案是{ans}')\n"
      ]
    }
  ]
}