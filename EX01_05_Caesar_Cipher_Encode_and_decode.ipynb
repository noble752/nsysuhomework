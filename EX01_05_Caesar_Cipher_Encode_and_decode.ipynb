{
  "nbformat": 4,
  "nbformat_minor": 0,
  "metadata": {
    "colab": {
      "provenance": [],
      "authorship_tag": "ABX9TyP2rpX6Dw5BAYzl09B3b09Y",
      "include_colab_link": true
    },
    "kernelspec": {
      "name": "python3",
      "display_name": "Python 3"
    },
    "language_info": {
      "name": "python"
    }
  },
  "cells": [
    {
      "cell_type": "markdown",
      "metadata": {
        "id": "view-in-github",
        "colab_type": "text"
      },
      "source": [
        "<a href=\"https://colab.research.google.com/github/noble752/nsysuhomework/blob/main/EX01_05_Caesar_Cipher_Encode_and_decode.ipynb\" target=\"_parent\"><img src=\"https://colab.research.google.com/assets/colab-badge.svg\" alt=\"Open In Colab\"/></a>"
      ]
    },
    {
      "cell_type": "code",
      "execution_count": 10,
      "metadata": {
        "colab": {
          "base_uri": "https://localhost:8080/"
        },
        "id": "m6mEQLlDDjxY",
        "outputId": "e81278ee-3028-4fb1-a4a0-c8c0c21c1d66"
      },
      "outputs": [
        {
          "output_type": "stream",
          "name": "stdout",
          "text": [
            "輸入加解密及金鑰d4\n",
            "請輸入密碼afaf\n",
            "ejej"
          ]
        }
      ],
      "source": [
        "## EX01-05 Caesar Cipher: Encode and decode\n",
        "act = input('輸入加解密及金鑰')\n",
        "act_type = act[0];\n",
        "act_num = int(act[1:])\n",
        "password = input('請輸入密碼')\n",
        "if act_type == 'd':\n",
        "  for i in range(len(password)):\n",
        "    n = chr(ord(password[i])+act_num)\n",
        "    print(n, end='')\n",
        "else:\n",
        "  for i in range(len(password)):\n",
        "    n = chr(ord(password[i])-act_num)\n",
        "    print(n, end='')\n",
        "\n",
        "\n",
        ""
      ]
    }
  ]
}