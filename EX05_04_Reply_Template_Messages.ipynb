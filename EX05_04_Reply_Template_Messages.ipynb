{
  "nbformat": 4,
  "nbformat_minor": 0,
  "metadata": {
    "colab": {
      "provenance": [],
      "authorship_tag": "ABX9TyO/boR/3OCBoteOe1VitIEg",
      "include_colab_link": true
    },
    "kernelspec": {
      "name": "python3",
      "display_name": "Python 3"
    },
    "language_info": {
      "name": "python"
    }
  },
  "cells": [
    {
      "cell_type": "markdown",
      "metadata": {
        "id": "view-in-github",
        "colab_type": "text"
      },
      "source": [
        "<a href=\"https://colab.research.google.com/github/noble752/nsysuhomework/blob/main/EX05_04_Reply_Template_Messages.ipynb\" target=\"_parent\"><img src=\"https://colab.research.google.com/assets/colab-badge.svg\" alt=\"Open In Colab\"/></a>"
      ]
    },
    {
      "cell_type": "code",
      "execution_count": 1,
      "metadata": {
        "colab": {
          "base_uri": "https://localhost:8080/"
        },
        "id": "VwfLAsiKWJVk",
        "outputId": "216588e6-5dff-458e-9b85-c80aa55055dd"
      },
      "outputs": [
        {
          "output_type": "stream",
          "name": "stdout",
          "text": [
            "\u001b[2K   \u001b[90m━━━━━━━━━━━━━━━━━━━━━━━━━━━━━━━━━━━━━━━━\u001b[0m \u001b[32m776.1/776.1 kB\u001b[0m \u001b[31m4.3 MB/s\u001b[0m eta \u001b[36m0:00:00\u001b[0m\n",
            "\u001b[2K   \u001b[90m━━━━━━━━━━━━━━━━━━━━━━━━━━━━━━━━━━━━━━━━\u001b[0m \u001b[32m165.6/165.6 kB\u001b[0m \u001b[31m9.2 MB/s\u001b[0m eta \u001b[36m0:00:00\u001b[0m\n",
            "\u001b[?25h"
          ]
        }
      ],
      "source": [
        "!pip install -q pyngrok flask_ngrok # for colab\n",
        "!pip install -q flask line-bot-sdk"
      ]
    },
    {
      "cell_type": "code",
      "source": [
        "# for colab\n",
        "from google.colab import userdata\n",
        "from pyngrok import ngrok\n",
        "from flask_ngrok import run_with_ngrok\n",
        "def ngrok_start():\n",
        "    ngrok.set_auth_token(userdata.get('ngrok'))\n",
        "    ngrok.connect(5000)\n",
        "    run_with_ngrok(app)\n",
        "\n",
        "from flask import Flask, request, abort\n",
        "\n",
        "from linebot.v3 import WebhookHandler\n",
        "from linebot.v3.exceptions import InvalidSignatureError\n",
        "from linebot.v3.webhooks import MessageEvent, TextMessageContent\n",
        "from linebot.v3.messaging import (\n",
        "    Configuration, ApiClient, MessagingApi,\n",
        "    ReplyMessageRequest,\n",
        "    TextMessage,\n",
        "    TemplateMessage,\n",
        "    ConfirmTemplate,\n",
        "    MessageAction,\n",
        "    CarouselTemplate,\n",
        "    CarouselColumn,\n",
        "    URIAction,\n",
        "    PostbackAction\n",
        ")\n",
        "\n",
        "app = Flask(__name__)\n",
        "\n",
        "@app.route(\"/\", methods=['GET'])\n",
        "def index():\n",
        "  return \"Hello World\"\n",
        "\n",
        "configuration = Configuration(access_token=userdata.get('Channel_access_token'))\n",
        "handler = WebhookHandler(userdata.get('Channel_secret'))\n",
        "\n",
        "@app.route(\"/callback\", methods=['POST'])\n",
        "def callback():\n",
        "    signature = request.headers['X-Line-Signature']\n",
        "    body = request.get_data(as_text=True)\n",
        "    try:\n",
        "        handler.handle(body, signature)\n",
        "    except InvalidSignatureError:\n",
        "        abort(400)\n",
        "    return 'OK'\n",
        "\n",
        "\n",
        "@handler.add(MessageEvent, message=TextMessageContent)\n",
        "def handle_message(event):\n",
        "    with ApiClient(configuration) as api_client:\n",
        "        line_bot_api = MessagingApi(api_client)\n",
        "        action = event.message.text\n",
        "        if action == \"confirm\":\n",
        "          template=ConfirmTemplate(\n",
        "              text=\"你喜歡葬送的福利連嗎？\",\n",
        "              actions=[\n",
        "                  MessageAction(label=\"是\", text=\"我超愛\"),\n",
        "                  MessageAction(label=\"否\", text=\"其實我很愛，但我要傲嬌的說不\")\n",
        "              ]\n",
        "            )\n",
        "          reply = TemplateMessage(\n",
        "          alt_text=\"這是確認視窗\",\n",
        "          template=template\n",
        "          )\n",
        "        elif action == 'carousel':\n",
        "          Carousel_template = CarouselTemplate(\n",
        "              columns=[\n",
        "                CarouselColumn(\n",
        "                  thumbnail_image_url='https://zh.wikipedia.org/wiki/File:Summer_Wars_poster.jpg',\n",
        "                  title='夏日大作戰',\n",
        "                  text='細田守執導',\n",
        "                  actions=[\n",
        "                    URIAction(label='維基百科', uri='https://zh.wikipedia.org/zh-tw/%E5%A4%8F%E6%97%A5%E5%A4%A7%E4%BD%9C%E6%88%B0'),\n",
        "                    URIAction(label='預告片', uri='https://www.youtube.com/watch?v=r8Ionf7_qBM'),\n",
        "                    MessageAction(label=\"投票\", text=\"我投夏日大作戰一票\")\n",
        "                  ]\n",
        "                ),\n",
        "                CarouselColumn(\n",
        "                  thumbnail_image_url='https://zh.wikipedia.org/wiki/File:Castle_of_Cagliostro_poster.png',\n",
        "                  title='魯邦三世 卡里奧斯特羅城',\n",
        "                  text='宮崎駿執導',\n",
        "                  actions=[\n",
        "                    URIAction(label='維基百科', uri='https://zh.wikipedia.org/zh-tw/%E9%AD%AF%E9%82%A6%E4%B8%89%E4%B8%96_%E5%8D%A1%E9%87%8C%E5%A5%A7%E6%96%AF%E7%89%B9%E7%BE%85%E4%B9%8B%E5%9F%8E'),\n",
        "                    URIAction(label='預告片', uri='https://www.youtube.com/watch?v=BO0iwApfDr8'),\n",
        "                    MessageAction(label=\"投票\", text=\"我投魯邦三世 卡里奧斯特羅城一票\")\n",
        "                  ]\n",
        "                )\n",
        "              ]\n",
        "          )\n",
        "          reply = TemplateMessage(\n",
        "              alt_text='這是輪播視窗',\n",
        "              template=Carousel_template\n",
        "          )\n",
        "        else:\n",
        "          reply = TextMessage(text='謝謝!')\n",
        "        line_bot_api.reply_message(\n",
        "            ReplyMessageRequest(\n",
        "                reply_token=event.reply_token,\n",
        "                messages=[\n",
        "                    reply\n",
        "                ]\n",
        "            )\n",
        "        )\n",
        "\n",
        "\n",
        "\n",
        "ngrok_start() # for colab\n",
        "if __name__ == \"__main__\":\n",
        "    app.run()"
      ],
      "metadata": {
        "colab": {
          "base_uri": "https://localhost:8080/"
        },
        "id": "_fCmrnK0Wb9Y",
        "outputId": "2ff75bf1-8282-42ef-ea33-62a96e3e1949"
      },
      "execution_count": 11,
      "outputs": [
        {
          "output_type": "stream",
          "name": "stdout",
          "text": [
            " * Serving Flask app '__main__'\n",
            " * Debug mode: off\n"
          ]
        },
        {
          "output_type": "stream",
          "name": "stderr",
          "text": [
            "INFO:werkzeug:\u001b[31m\u001b[1mWARNING: This is a development server. Do not use it in a production deployment. Use a production WSGI server instead.\u001b[0m\n",
            " * Running on http://127.0.0.1:5000\n",
            "INFO:werkzeug:\u001b[33mPress CTRL+C to quit\u001b[0m\n"
          ]
        },
        {
          "output_type": "stream",
          "name": "stdout",
          "text": [
            " * Running on http://7a03-35-237-27-29.ngrok-free.app\n",
            " * Traffic stats available on http://127.0.0.1:4040\n"
          ]
        },
        {
          "output_type": "stream",
          "name": "stderr",
          "text": [
            "INFO:werkzeug:127.0.0.1 - - [13/May/2025 07:53:30] \"POST /callback HTTP/1.1\" 200 -\n",
            "WARNING:pyngrok.process.ngrok:t=2025-05-13T08:20:23+0000 lvl=warn msg=\"Stopping forwarder\" name=http-5000-cea4e105-0727-477c-a8a7-8277f1b63cb1 acceptErr=\"failed to accept connection: Listener closed\"\n",
            "WARNING:pyngrok.process.ngrok:t=2025-05-13T08:20:23+0000 lvl=warn msg=\"Error restarting forwarder\" name=http-5000-cea4e105-0727-477c-a8a7-8277f1b63cb1 err=\"failed to start tunnel: session closed\"\n"
          ]
        }
      ]
    }
  ]
}