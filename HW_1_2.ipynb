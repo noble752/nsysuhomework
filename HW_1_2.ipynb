{
  "nbformat": 4,
  "nbformat_minor": 0,
  "metadata": {
    "colab": {
      "provenance": [],
      "include_colab_link": true
    },
    "kernelspec": {
      "name": "python3",
      "display_name": "Python 3"
    },
    "language_info": {
      "name": "python"
    }
  },
  "cells": [
    {
      "cell_type": "markdown",
      "metadata": {
        "id": "view-in-github",
        "colab_type": "text"
      },
      "source": [
        "<a href=\"https://colab.research.google.com/github/noble752/nsysuhomework/blob/main/HW_1_2.ipynb\" target=\"_parent\"><img src=\"https://colab.research.google.com/assets/colab-badge.svg\" alt=\"Open In Colab\"/></a>"
      ]
    },
    {
      "cell_type": "markdown",
      "source": [
        "# HW02 Web Crawler"
      ],
      "metadata": {
        "id": "eo72fZ0YlURV"
      }
    },
    {
      "cell_type": "markdown",
      "source": [
        "## 題目"
      ],
      "metadata": {
        "id": "gUsBAopRJMJD"
      }
    },
    {
      "cell_type": "markdown",
      "source": [
        "KKBOX 華語新歌日榜"
      ],
      "metadata": {
        "id": "pDHhflLyJRgS"
      }
    },
    {
      "cell_type": "markdown",
      "source": [
        "## 摘要"
      ],
      "metadata": {
        "id": "hbqT3pl04Hl9"
      }
    },
    {
      "cell_type": "markdown",
      "source": [
        "本報告旨在透過網路爬蟲技術，收集KKBOX 華語新歌日榜的前十名，作為聆聽音樂的參考。"
      ],
      "metadata": {
        "id": "eweMw-wh4TC0"
      }
    },
    {
      "cell_type": "markdown",
      "source": [
        "## 引言"
      ],
      "metadata": {
        "id": "9nb1aHAM4XiE"
      }
    },
    {
      "cell_type": "markdown",
      "source": [
        "KKBOX 作為台灣知名的音樂串流平台，提供每日更新的音樂排行榜，反映出當前大眾對新歌的關注程度。\n",
        "\n",
        "本次爬蟲的目標是擷取 KKBOX 平台上「日榜華語新歌」的前十名資訊，包含歌曲名稱及演唱者，藉此掌握最新音樂動態，並為音樂推薦、趨勢分析等應用提供基礎資料。"
      ],
      "metadata": {
        "id": "0ZmT034r5F9R"
      }
    },
    {
      "cell_type": "markdown",
      "source": [
        "## 方法"
      ],
      "metadata": {
        "id": "8YMFd39F4n4l"
      }
    },
    {
      "cell_type": "markdown",
      "source": [
        "目標網站： KKBOX 日榜華語新歌排行榜頁面\n",
        "https://kma.kkbox.com/charts/daily/newrelease?terr=tw&lang=tc\n",
        "\n",
        "頁面結構：\n",
        "該排行榜頁面列出了每日更新的華語新歌前幾名資訊，包含每首歌曲的歌名、演唱者等資料。該網站內容主要由 JavaScript 動態渲染生成，因此須透過瀏覽器模擬方式獲取完整資料。\n",
        "\n",
        "工具與技術：\n",
        "\n",
        "使用 Python 的 selenium 模組模擬瀏覽器載入網頁。\n",
        "\n",
        "使用 BeautifulSoup 解析動態渲染後的 HTML 結構。\n",
        "\n",
        "使用 Google Chrome 開發者工具輔助分析 DOM 結構與資料位置。"
      ],
      "metadata": {
        "id": "zkix6XqZ429E"
      }
    },
    {
      "cell_type": "code",
      "source": [
        "# 爬取資料程式碼\n",
        "import requests\n",
        "from bs4 import BeautifulSoup\n",
        "\n",
        "\n",
        "url = 'https://kma.kkbox.com/charts/daily/newrelease?terr=tw&lang=tc'\n",
        "headers ={'user-agent':'Mozilla/5.0 (Windows NT 10.0; Win64; x64) AppleWebKit/537.36 (KHTML, like Gecko) Chrome/136.0.0.0 Safari/537.36'}\n",
        "response = requests.get(url, headers=headers)\n",
        "soup = BeautifulSoup(response.text, 'lxml')\n",
        "soup.title"
      ],
      "metadata": {
        "id": "ziaWIQ0t8vKt",
        "colab": {
          "base_uri": "https://localhost:8080/"
        },
        "outputId": "14bc74f5-6c29-4583-8399-4145fdc67071"
      },
      "execution_count": 3,
      "outputs": [
        {
          "output_type": "execute_result",
          "data": {
            "text/plain": [
              "<title>華語新歌日榜 - KKBOX 風雲榜</title>"
            ]
          },
          "metadata": {},
          "execution_count": 3
        }
      ]
    },
    {
      "cell_type": "code",
      "source": [
        "pip install selenium\n"
      ],
      "metadata": {
        "colab": {
          "base_uri": "https://localhost:8080/"
        },
        "id": "41wD9dWBjC4Q",
        "outputId": "745e04a2-822b-4bfc-df7f-c86190ab3508"
      },
      "execution_count": 7,
      "outputs": [
        {
          "output_type": "stream",
          "name": "stdout",
          "text": [
            "Collecting selenium\n",
            "  Downloading selenium-4.32.0-py3-none-any.whl.metadata (7.5 kB)\n",
            "Requirement already satisfied: urllib3<3,>=1.26 in /usr/local/lib/python3.11/dist-packages (from urllib3[socks]<3,>=1.26->selenium) (2.4.0)\n",
            "Collecting trio~=0.17 (from selenium)\n",
            "  Downloading trio-0.30.0-py3-none-any.whl.metadata (8.5 kB)\n",
            "Collecting trio-websocket~=0.9 (from selenium)\n",
            "  Downloading trio_websocket-0.12.2-py3-none-any.whl.metadata (5.1 kB)\n",
            "Requirement already satisfied: certifi>=2021.10.8 in /usr/local/lib/python3.11/dist-packages (from selenium) (2025.4.26)\n",
            "Requirement already satisfied: typing_extensions~=4.9 in /usr/local/lib/python3.11/dist-packages (from selenium) (4.13.2)\n",
            "Requirement already satisfied: websocket-client~=1.8 in /usr/local/lib/python3.11/dist-packages (from selenium) (1.8.0)\n",
            "Requirement already satisfied: attrs>=23.2.0 in /usr/local/lib/python3.11/dist-packages (from trio~=0.17->selenium) (25.3.0)\n",
            "Requirement already satisfied: sortedcontainers in /usr/local/lib/python3.11/dist-packages (from trio~=0.17->selenium) (2.4.0)\n",
            "Requirement already satisfied: idna in /usr/local/lib/python3.11/dist-packages (from trio~=0.17->selenium) (3.10)\n",
            "Collecting outcome (from trio~=0.17->selenium)\n",
            "  Downloading outcome-1.3.0.post0-py2.py3-none-any.whl.metadata (2.6 kB)\n",
            "Requirement already satisfied: sniffio>=1.3.0 in /usr/local/lib/python3.11/dist-packages (from trio~=0.17->selenium) (1.3.1)\n",
            "Collecting wsproto>=0.14 (from trio-websocket~=0.9->selenium)\n",
            "  Downloading wsproto-1.2.0-py3-none-any.whl.metadata (5.6 kB)\n",
            "Requirement already satisfied: pysocks!=1.5.7,<2.0,>=1.5.6 in /usr/local/lib/python3.11/dist-packages (from urllib3[socks]<3,>=1.26->selenium) (1.7.1)\n",
            "Requirement already satisfied: h11<1,>=0.9.0 in /usr/local/lib/python3.11/dist-packages (from wsproto>=0.14->trio-websocket~=0.9->selenium) (0.16.0)\n",
            "Downloading selenium-4.32.0-py3-none-any.whl (9.4 MB)\n",
            "\u001b[2K   \u001b[90m━━━━━━━━━━━━━━━━━━━━━━━━━━━━━━━━━━━━━━━━\u001b[0m \u001b[32m9.4/9.4 MB\u001b[0m \u001b[31m57.9 MB/s\u001b[0m eta \u001b[36m0:00:00\u001b[0m\n",
            "\u001b[?25hDownloading trio-0.30.0-py3-none-any.whl (499 kB)\n",
            "\u001b[2K   \u001b[90m━━━━━━━━━━━━━━━━━━━━━━━━━━━━━━━━━━━━━━━━\u001b[0m \u001b[32m499.2/499.2 kB\u001b[0m \u001b[31m26.5 MB/s\u001b[0m eta \u001b[36m0:00:00\u001b[0m\n",
            "\u001b[?25hDownloading trio_websocket-0.12.2-py3-none-any.whl (21 kB)\n",
            "Downloading outcome-1.3.0.post0-py2.py3-none-any.whl (10 kB)\n",
            "Downloading wsproto-1.2.0-py3-none-any.whl (24 kB)\n",
            "Installing collected packages: wsproto, outcome, trio, trio-websocket, selenium\n",
            "Successfully installed outcome-1.3.0.post0 selenium-4.32.0 trio-0.30.0 trio-websocket-0.12.2 wsproto-1.2.0\n"
          ]
        }
      ]
    },
    {
      "cell_type": "code",
      "source": [
        "pip install webdriver-manager\n"
      ],
      "metadata": {
        "colab": {
          "base_uri": "https://localhost:8080/"
        },
        "id": "6_b-eA8zjFNm",
        "outputId": "7a920463-2138-4df3-eee6-3b70fe236aee"
      },
      "execution_count": 8,
      "outputs": [
        {
          "output_type": "stream",
          "name": "stdout",
          "text": [
            "Collecting webdriver-manager\n",
            "  Downloading webdriver_manager-4.0.2-py2.py3-none-any.whl.metadata (12 kB)\n",
            "Requirement already satisfied: requests in /usr/local/lib/python3.11/dist-packages (from webdriver-manager) (2.32.3)\n",
            "Collecting python-dotenv (from webdriver-manager)\n",
            "  Downloading python_dotenv-1.1.0-py3-none-any.whl.metadata (24 kB)\n",
            "Requirement already satisfied: packaging in /usr/local/lib/python3.11/dist-packages (from webdriver-manager) (24.2)\n",
            "Requirement already satisfied: charset-normalizer<4,>=2 in /usr/local/lib/python3.11/dist-packages (from requests->webdriver-manager) (3.4.2)\n",
            "Requirement already satisfied: idna<4,>=2.5 in /usr/local/lib/python3.11/dist-packages (from requests->webdriver-manager) (3.10)\n",
            "Requirement already satisfied: urllib3<3,>=1.21.1 in /usr/local/lib/python3.11/dist-packages (from requests->webdriver-manager) (2.4.0)\n",
            "Requirement already satisfied: certifi>=2017.4.17 in /usr/local/lib/python3.11/dist-packages (from requests->webdriver-manager) (2025.4.26)\n",
            "Downloading webdriver_manager-4.0.2-py2.py3-none-any.whl (27 kB)\n",
            "Downloading python_dotenv-1.1.0-py3-none-any.whl (20 kB)\n",
            "Installing collected packages: python-dotenv, webdriver-manager\n",
            "Successfully installed python-dotenv-1.1.0 webdriver-manager-4.0.2\n"
          ]
        }
      ]
    },
    {
      "cell_type": "code",
      "source": [
        "# 1. 安裝 Chrome 及 ChromeDriver\n",
        "!apt update > /dev/null\n",
        "!apt install -y chromium-chromedriver > /dev/null\n",
        "!cp /usr/lib/chromium-browser/chromedriver /usr/bin\n",
        "!pip install selenium > /dev/null\n",
        "\n",
        "# 2. 設定 selenium options\n",
        "from selenium import webdriver\n",
        "from selenium.webdriver.chrome.options import Options\n",
        "from bs4 import BeautifulSoup\n",
        "import time\n",
        "\n",
        "options = Options()\n",
        "options.add_argument('--headless')  # 背景執行\n",
        "options.add_argument('--no-sandbox')\n",
        "options.add_argument('--disable-dev-shm-usage')\n",
        "options.binary_location = '/usr/bin/chromium-browser'\n",
        "\n",
        "# 3. 開啟網頁\n",
        "driver = webdriver.Chrome(options=options)\n",
        "driver.get('https://kma.kkbox.com/charts/daily/newrelease?terr=tw&lang=tc')\n",
        "\n",
        "# 4. 等 JavaScript 載入\n",
        "time.sleep(5)\n",
        "\n",
        "# 5. 解析網頁\n",
        "soup = BeautifulSoup(driver.page_source, 'html.parser')\n",
        "driver.quit()\n",
        "\n",
        "# 6. 抓取資料\n",
        "songs = soup.find_all('li', class_='charts-list-row')[:10]\n",
        "\n",
        "for idx, song in enumerate(songs):\n",
        "    # 歌名\n",
        "    title_tag = song.find('span', class_='charts-list-song')\n",
        "    title = title_tag['title'] if title_tag else 'N/A'\n",
        "\n",
        "    # 歌手\n",
        "    artist_tag = song.find('span', class_='charts-list-artist')\n",
        "    artist = artist_tag['title'] if artist_tag else 'N/A'\n",
        "\n",
        "    print(f\"{idx+1}. 🎵 歌名: {title}\")\n",
        "    print(f\"    👤 歌手: {artist}\")\n"
      ],
      "metadata": {
        "colab": {
          "base_uri": "https://localhost:8080/"
        },
        "id": "SCTVyINMXIej",
        "outputId": "0e2084df-393b-470d-ab7d-c8731f2f18ec"
      },
      "execution_count": 11,
      "outputs": [
        {
          "output_type": "stream",
          "name": "stdout",
          "text": [
            "\n",
            "WARNING: apt does not have a stable CLI interface. Use with caution in scripts.\n",
            "\n",
            "W: Skipping acquire of configured file 'main/source/Sources' as repository 'https://r2u.stat.illinois.edu/ubuntu jammy InRelease' does not seem to provide it (sources.list entry misspelt?)\n",
            "\n",
            "WARNING: apt does not have a stable CLI interface. Use with caution in scripts.\n",
            "\n",
            "cp: '/usr/lib/chromium-browser/chromedriver' and '/usr/bin/chromedriver' are the same file\n",
            "1. 🎵 歌名: 最好的朋友\n",
            "    👤 歌手: 韋禮安, 東海\n",
            "2. 🎵 歌名: 兄弟們要進城\n",
            "    👤 歌手: 頑童MJ116\n",
            "3. 🎵 歌名: OGS\n",
            "    👤 歌手: 頑童MJ116\n",
            "4. 🎵 歌名: 有一种遗憾叫我们\n",
            "    👤 歌手: 于冬然\n",
            "5. 🎵 歌名: 數到十\n",
            "    👤 歌手: 曾沛慈\n",
            "6. 🎵 歌名: OH! - Chinese Version\n",
            "    👤 歌手: GENBLUE 幻藍小熊\n",
            "7. 🎵 歌名: 隔著螢幕想念你\n",
            "    👤 歌手: 派偉俊\n",
            "8. 🎵 歌名: 你給我的\n",
            "    👤 歌手: 家家\n",
            "9. 🎵 歌名: 一二三\n",
            "    👤 歌手: 田馥甄\n",
            "10. 🎵 歌名: 花季\n",
            "    👤 歌手: 陳芳語\n"
          ]
        }
      ]
    },
    {
      "cell_type": "markdown",
      "source": [
        "## 結果\n"
      ],
      "metadata": {
        "id": "mHEo_iad7QMa"
      }
    },
    {
      "cell_type": "markdown",
      "source": [
        "- 數據存儲方式\n",
        "  - 將數據存儲為 CSV 格式，方便後續分析。"
      ],
      "metadata": {
        "id": "Fx3h33cU8n8t"
      }
    },
    {
      "cell_type": "code",
      "source": [
        "# 展示資料程式碼\n",
        "import csv\n",
        "from selenium import webdriver\n",
        "from selenium.webdriver.chrome.options import Options\n",
        "from bs4 import BeautifulSoup\n",
        "import time\n",
        "import pandas as pd\n",
        "\n",
        "# 設定 Selenium options\n",
        "options = Options()\n",
        "options.add_argument('--headless')  # 背景執行\n",
        "options.add_argument('--no-sandbox')\n",
        "options.add_argument('--disable-dev-shm-usage')\n",
        "options.binary_location = '/usr/bin/chromium-browser'\n",
        "\n",
        "# 啟動瀏覽器\n",
        "driver = webdriver.Chrome(options=options)\n",
        "driver.get('https://kma.kkbox.com/charts/daily/newrelease?terr=tw&lang=tc')\n",
        "\n",
        "# 等待網頁載入\n",
        "time.sleep(5)\n",
        "\n",
        "# 解析網頁\n",
        "soup = BeautifulSoup(driver.page_source, 'html.parser')\n",
        "driver.quit()\n",
        "\n",
        "# 抓取前10名的歌曲資訊\n",
        "songs = soup.find_all('li', class_='charts-list-row')[:10]\n",
        "\n",
        "# 用來存儲歌名和歌手的列表\n",
        "song_data = []\n",
        "\n",
        "# 抓取每首歌的資料\n",
        "for song in songs:\n",
        "    # 歌名\n",
        "    title_tag = song.find('span', class_='charts-list-song')\n",
        "    title = title_tag['title'] if title_tag else 'N/A'\n",
        "\n",
        "    # 歌手\n",
        "    artist_tag = song.find('span', class_='charts-list-artist')\n",
        "    artist = artist_tag['title'] if artist_tag else 'N/A'\n",
        "\n",
        "    # 把歌名和歌手放進歌單列表\n",
        "    song_data.append([title, artist])\n",
        "\n",
        "# 使用 pandas 存儲為 CSV 格式\n",
        "df = pd.DataFrame(song_data, columns=['歌名', '歌手'])\n",
        "df.to_csv('kkbox_new_releases.csv', index=False, encoding='utf-8')\n",
        "\n",
        "# 印出確認訊息\n",
        "print(\"數據已經成功保存到 'kkbox_new_releases.csv'\")\n"
      ],
      "metadata": {
        "id": "jsLbLuSa8mnY",
        "colab": {
          "base_uri": "https://localhost:8080/"
        },
        "outputId": "796fa8ee-0e40-4253-c9c9-ab062f2e9d41"
      },
      "execution_count": 12,
      "outputs": [
        {
          "output_type": "stream",
          "name": "stdout",
          "text": [
            "數據已經成功保存到 'kkbox_new_releases.csv'\n"
          ]
        }
      ]
    },
    {
      "cell_type": "markdown",
      "source": [
        "## 問題與挑戰"
      ],
      "metadata": {
        "id": "6yHFop_b73gY"
      }
    },
    {
      "cell_type": "markdown",
      "source": [
        "- 透過 AJAX 取得資料：\n",
        "目標網站的資料並非靜態呈現，而是透過 JavaScript 和 AJAX 動態載入。因此，單純的 requests 模組無法獲取完整資料。為了解決這個問題，我必須使用 selenium 來模擬瀏覽器行為，並等待網頁完成渲染，才能獲得所需的 HTML 內容。這需要額外的時間來設置和測試。"
      ],
      "metadata": {
        "id": "D6roihku8PBu"
      }
    },
    {
      "cell_type": "markdown",
      "source": [
        "## 結論"
      ],
      "metadata": {
        "id": "VeQHgVuqqD3J"
      }
    },
    {
      "cell_type": "markdown",
      "source": [
        "\n",
        "- 本次作業成功抓取並分析了 KKBox 日榜華語新歌的前十名資訊，並提取了歌名和歌手等資料。透過使用 requests、BeautifulSoup 和 selenium 等技術，我克服了 AJAX 資料獲取的挑戰，成功獲得了動態載入的資料，並將其存儲為 CSV 格式，方便後續的分析與處理。\n",
        "- 未來，該爬蟲可以進一步擴展至其他音樂平台或進行跨平台比較分析，以便更全面地了解不同平台的音樂趨勢。此外，也可以將分析結果與其他數據進行綜合分析，提供更深層次的音樂趨勢洞察。"
      ],
      "metadata": {
        "id": "Baea2g7J9DAL"
      }
    },
    {
      "cell_type": "markdown",
      "source": [
        "## 參考文獻"
      ],
      "metadata": {
        "id": "j5hI_9QW9dTt"
      }
    },
    {
      "cell_type": "markdown",
      "source": [
        "* [KKBOX風雲榜](https://kma.kkbox.com/charts/daily/newrelease?terr=tw&lang=tc)"
      ],
      "metadata": {
        "id": "eLFvp2Fk9fSa"
      }
    }
  ]
}