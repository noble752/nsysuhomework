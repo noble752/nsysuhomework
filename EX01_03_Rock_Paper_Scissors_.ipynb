{
  "nbformat": 4,
  "nbformat_minor": 0,
  "metadata": {
    "colab": {
      "provenance": [],
      "authorship_tag": "ABX9TyOZxT74cFPtBS4jzFLGyq/C",
      "include_colab_link": true
    },
    "kernelspec": {
      "name": "python3",
      "display_name": "Python 3"
    },
    "language_info": {
      "name": "python"
    }
  },
  "cells": [
    {
      "cell_type": "markdown",
      "metadata": {
        "id": "view-in-github",
        "colab_type": "text"
      },
      "source": [
        "<a href=\"https://colab.research.google.com/github/noble752/nsysuhomework/blob/main/EX01_03_Rock_Paper_Scissors_.ipynb\" target=\"_parent\"><img src=\"https://colab.research.google.com/assets/colab-badge.svg\" alt=\"Open In Colab\"/></a>"
      ]
    },
    {
      "cell_type": "code",
      "execution_count": 6,
      "metadata": {
        "colab": {
          "base_uri": "https://localhost:8080/"
        },
        "id": "qmICMJjHRn-T",
        "outputId": "cbbdf076-95b5-4d84-b7fc-43fce2e711a8"
      },
      "outputs": [
        {
          "output_type": "stream",
          "name": "stdout",
          "text": [
            "你出什麼拳5\n",
            "電腦出 0\n",
            "你贏了\n"
          ]
        }
      ],
      "source": [
        "# EX01-03 Rock-Paper-Scissors\n",
        "import random\n",
        "pl = int(input('你出什麼拳'))\n",
        "cm = int(random.choice([0,2,5]))\n",
        "print('電腦出',cm)\n",
        "if cm == pl:\n",
        "  print('平手')\n",
        "elif (cm == 0 and pl == 5) or (cm == 2 and pl == 0) or (cm == 5 and pl == 2):\n",
        "  print('你贏了')\n",
        "else:\n",
        "  print('你輸了')\n"
      ]
    }
  ]
}